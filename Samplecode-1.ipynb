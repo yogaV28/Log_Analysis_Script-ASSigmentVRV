{
 "cells": [
  {
   "cell_type": "markdown",
   "metadata": {},
   "source": [
    "## Base Idea of LoG A"
   ]
  },
  {
   "cell_type": "markdown",
   "metadata": {},
   "source": [
    "#### Import Library"
   ]
  },
  {
   "cell_type": "code",
   "execution_count": 2,
   "metadata": {},
   "outputs": [],
   "source": [
    "import re\n",
    "import csv\n",
    "from collections import defaultdict\n"
   ]
  },
  {
   "cell_type": "markdown",
   "metadata": {},
   "source": [
    "#### Load Data"
   ]
  },
  {
   "cell_type": "code",
   "execution_count": 3,
   "metadata": {},
   "outputs": [],
   "source": [
    "\n",
    "# Sample log data\n",
    "log_data = \"\"\"\n",
    "192.168.1.1 - - [03/Dec/2024:10:12:34 +0000] \"GET /home HTTP/1.1\" 200 512\n",
    "203.0.113.5 - - [03/Dec/2024:10:12:35 +0000] \"POST /login HTTP/1.1\" 401 128 \"Invalid credentials\"\n",
    "10.0.0.2 - - [03/Dec/2024:10:12:36 +0000] \"GET /about HTTP/1.1\" 200 256\n",
    "192.168.1.1 - - [03/Dec/2024:10:12:37 +0000] \"GET /contact HTTP/1.1\" 200 312\n",
    "198.51.100.23 - - [03/Dec/2024:10:12:38 +0000] \"POST /register HTTP/1.1\" 200 128\n",
    "203.0.113.5 - - [03/Dec/2024:10:12:39 +0000] \"POST /login HTTP/1.1\" 401 128 \"Invalid credentials\"\n",
    "192.168.1.100 - - [03/Dec/2024:10:12:40 +0000] \"POST /login HTTP/1.1\" 401 128 \"Invalid credentials\"\n",
    "10.0.0.2 - - [03/Dec/2024:10:12:41 +0000] \"GET /dashboard HTTP/1.1\" 200 1024\n",
    "198.51.100.23 - - [03/Dec/2024:10:12:42 +0000] \"GET /about HTTP/1.1\" 200 256\n",
    "192.168.1.1 - - [03/Dec/2024:10:12:43 +0000] \"GET /dashboard HTTP/1.1\" 200 1024\n",
    "203.0.113.5 - - [03/Dec/2024:10:12:44 +0000] \"POST /login HTTP/1.1\" 401 128 \"Invalid credentials\"\n",
    "203.0.113.5 - - [03/Dec/2024:10:12:45 +0000] \"POST /login HTTP/1.1\" 401 128 \"Invalid credentials\"\n",
    "192.168.1.100 - - [03/Dec/2024:10:12:46 +0000] \"POST /login HTTP/1.1\" 401 128 \"Invalid credentials\"\n",
    "10.0.0.2 - - [03/Dec/2024:10:12:47 +0000] \"GET /profile HTTP/1.1\" 200 768\n",
    "192.168.1.1 - - [03/Dec/2024:10:12:48 +0000] \"GET /home HTTP/1.1\" 200 512\n",
    "198.51.100.23 - - [03/Dec/2024:10:12:49 +0000] \"POST /feedback HTTP/1.1\" 200 128\n",
    "203.0.113.5 - - [03/Dec/2024:10:12:50 +0000] \"POST /login HTTP/1.1\" 401 128 \"Invalid credentials\"\n",
    "192.168.1.1 - - [03/Dec/2024:10:12:51 +0000] \"GET /home HTTP/1.1\" 200 512\n",
    "198.51.100.23 - - [03/Dec/2024:10:12:52 +0000] \"GET /about HTTP/1.1\" 200 256\n",
    "203.0.113.5 - - [03/Dec/2024:10:12:53 +0000] \"POST /login HTTP/1.1\" 401 128 \"Invalid credentials\"\n",
    "192.168.1.100 - - [03/Dec/2024:10:12:54 +0000] \"POST /login HTTP/1.1\" 401 128 \"Invalid credentials\"\n",
    "10.0.0.2 - - [03/Dec/2024:10:12:55 +0000] \"GET /contact HTTP/1.1\" 200 512\n",
    "198.51.100.23 - - [03/Dec/2024: 10:12:56 +0000] \"GET /home HTTP/1.1\" 200 512\n",
    "192.168.1.100 - - [03/Dec/2024:10:12:57 +0000] \"POST /login HTTP/1.1\" 401 128 \"Invalid credentials\"\n",
    "203.0.113.5 - - [03/Dec/2024:10:12:58 +0000] \"POST /login HTTP/1.1\" 401 128 \"Invalid credentials\"\n",
    "10.0.0.2 - - [03/Dec/2024:10:12:59 +0000] \"GET /dashboard HTTP/1.1\" 200 1024\n",
    "192.168.1.1 - - [03/Dec/2024:10:13:00 +0000] \"GET /about HTTP/1.1\" 200 256\n",
    "198.51.100.23 - - [03/Dec/2024:10:13:01 +0000] \"POST /register HTTP/1.1\" 200 128\n",
    "203.0.113.5 - - [03/Dec/2024:10:13:02 +0000] \"POST /login HTTP/1.1\" 401 128 \"Invalid credentials\"\n",
    "192.168.1.100 - - [03/Dec/2024:10:13:03 +0000] \"POST /login HTTP/1.1\" 401 128 \"Invalid credentials\"\n",
    "10.0.0.2 - - [03/Dec/2024:10:13:04 +0000] \"GET /profile HTTP/1.1\" 200 768\n",
    "198.51.100.23 - - [03/Dec/2024:10:13:05 +0000] \"GET /about HTTP/1.1\" 200 256\n",
    "192.168.1.1 - - [03/Dec/2024:10:13:06 +0000] \"GET /home HTTP/1.1\" 200 512\n",
    "198.51.100.23 - - [03/Dec/2024:10:13:07 +0000] \"POST /feedback HTTP/1.1\" 200 128\n",
    "\"\"\"\n",
    "\n"
   ]
  },
  {
   "cell_type": "markdown",
   "metadata": {},
   "source": [
    "#### Initialize counters"
   ]
  },
  {
   "cell_type": "code",
   "execution_count": 4,
   "metadata": {},
   "outputs": [],
   "source": [
    "ip_requests = defaultdict(int)\n",
    "endpoint_access = defaultdict(int)\n",
    "failed_logins = defaultdict(int)"
   ]
  },
  {
   "cell_type": "markdown",
   "metadata": {},
   "source": [
    "#### Process with Log entry"
   ]
  },
  {
   "cell_type": "code",
   "execution_count": 5,
   "metadata": {},
   "outputs": [],
   "source": [
    "for line in log_data.strip().split('\\n'):\n",
    "    match = re.match(r'(\\S+) - - \\[.*\\] \"(.*?) (.*?) HTTP.*\" (\\d{3}) .*', line)\n",
    "    if match:\n",
    "        ip, method, endpoint, status = match.groups()\n",
    "        ip_requests[ip] += 1\n",
    "        endpoint_access[endpoint] += 1\n",
    "        if method == \"POST\" and status == \"401\":\n",
    "            failed_logins[ip] += 1\n",
    "\n"
   ]
  },
  {
   "cell_type": "code",
   "execution_count": 6,
   "metadata": {},
   "outputs": [],
   "source": [
    "csv_data = []"
   ]
  },
  {
   "cell_type": "markdown",
   "metadata": {},
   "source": [
    "#### IP Requests Count"
   ]
  },
  {
   "cell_type": "code",
   "execution_count": 7,
   "metadata": {},
   "outputs": [],
   "source": [
    "csv_data.append([\"IP Address\", \"Request Count\"])\n",
    "for ip, count in ip_requests.items():\n",
    "    csv_data.append([ip, str(count)])"
   ]
  },
  {
   "cell_type": "markdown",
   "metadata": {},
   "source": [
    "#### Most Accessed Endpoint"
   ]
  },
  {
   "cell_type": "code",
   "execution_count": 8,
   "metadata": {},
   "outputs": [],
   "source": [
    "csv_data.append([])\n",
    "csv_data.append([\"Most Accessed Endpoint\", \"Access Count\"])\n",
    "most_accessed = max(endpoint_access.items(), key=lambda x: x[1])\n",
    "csv_data.append([most_accessed[0], str(most_accessed[1])])\n",
    "\n"
   ]
  },
  {
   "cell_type": "markdown",
   "metadata": {},
   "source": [
    "#### Failed Login Count"
   ]
  },
  {
   "cell_type": "code",
   "execution_count": 9,
   "metadata": {},
   "outputs": [],
   "source": [
    "csv_data.append([])\n",
    "csv_data.append([\"IP Address\", \"Failed Login Count\"])\n",
    "for ip, count in failed_logins.items():\n",
    "    csv_data.append([ip, str(count)])"
   ]
  },
  {
   "cell_type": "markdown",
   "metadata": {},
   "source": [
    "#### Write to CSV"
   ]
  },
  {
   "cell_type": "code",
   "execution_count": null,
   "metadata": {},
   "outputs": [
    {
     "name": "stdout",
     "output_type": "stream",
     "text": [
      "CSV file 'log_analysis_results.csv' has been created.\n"
     ]
    }
   ],
   "source": [
    "with open('log_analysis_results.csv', 'w', newline='') as file:\n",
    "    writer = csv.writer(file)\n",
    "    writer.writerows(csv_data)\n",
    "\n",
    "print(\"CSV file 'log_analysis_results.csv' has been created.\")"
   ]
  }
 ],
 "metadata": {
  "kernelspec": {
   "display_name": "Python 3",
   "language": "python",
   "name": "python3"
  },
  "language_info": {
   "codemirror_mode": {
    "name": "ipython",
    "version": 3
   },
   "file_extension": ".py",
   "mimetype": "text/x-python",
   "name": "python",
   "nbconvert_exporter": "python",
   "pygments_lexer": "ipython3",
   "version": "3.11.9"
  }
 },
 "nbformat": 4,
 "nbformat_minor": 2
}
